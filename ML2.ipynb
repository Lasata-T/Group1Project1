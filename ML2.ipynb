{
  "nbformat": 4,
  "nbformat_minor": 0,
  "metadata": {
    "colab": {
      "provenance": [],
      "authorship_tag": "ABX9TyNaEqoWpwGepRDR/Uzug9UF",
      "include_colab_link": true
    },
    "kernelspec": {
      "name": "python3",
      "display_name": "Python 3"
    },
    "language_info": {
      "name": "python"
    }
  },
  "cells": [
    {
      "cell_type": "markdown",
      "metadata": {
        "id": "view-in-github",
        "colab_type": "text"
      },
      "source": [
        "<a href=\"https://colab.research.google.com/github/rtan01/Group1Project1/blob/main/ML2.ipynb\" target=\"_parent\"><img src=\"https://colab.research.google.com/assets/colab-badge.svg\" alt=\"Open In Colab\"/></a>"
      ]
    },
    {
      "cell_type": "code",
      "execution_count": null,
      "metadata": {
        "id": "WdIIS2kiiPlk"
      },
      "outputs": [],
      "source": [
        "#Libraries\n",
        "import pandas as pd\n",
        "import numpy as np\n",
        "import matplotlib.pyplot as plt\n",
        "import seaborn as sns"
      ]
    },
    {
      "cell_type": "code",
      "source": [
        "#import data\n",
        "import pandas as pd\n",
        "\n",
        "var_list = ['SEX', 'SEXBIRTH1', 'SEXNOW1', 'age'  'year']\n",
        "output_file = 'gss_data_url.csv'\n",
        "modes = ['w', 'a']\n",
        "phase = 0\n",
        "\n",
        "for k in range(37):\n",
        "    url = 'https://github.com/DS3001/gss_zip/raw/main/gss_' + str(1 + k) + '.csv'\n",
        "    print(url)\n",
        "    df = pd.read_csv(url, low_memory=False)\n",
        "\n",
        "    if phase == 0:\n",
        "\n",
        "        df[var_list].to_csv(output_file, mode=modes[phase], header=True, index=False)\n",
        "    else:\n",
        "\n",
        "        df[var_list].to_csv(output_file, mode=modes[phase], header=False, index=False)\n",
        "\n",
        "    phase = 1\n",
        "    k += 1\n"
      ],
      "metadata": {
        "id": "Bo4FCSj8iZBR"
      },
      "execution_count": null,
      "outputs": []
    }
  ]
}