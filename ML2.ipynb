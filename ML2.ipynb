{
  "cells": [
    {
      "cell_type": "markdown",
      "metadata": {
        "id": "view-in-github",
        "colab_type": "text"
      },
      "source": [
        "<a href=\"https://colab.research.google.com/github/rtan01/Group1Project1/blob/main/ML2.ipynb\" target=\"_parent\"><img src=\"https://colab.research.google.com/assets/colab-badge.svg\" alt=\"Open In Colab\"/></a>"
      ]
    },
    {
      "cell_type": "code",
      "execution_count": 8,
      "metadata": {
        "id": "WdIIS2kiiPlk"
      },
      "outputs": [],
      "source": [
        "#Libraries\n",
        "import pandas as pd\n",
        "import numpy as np\n",
        "import matplotlib.pyplot as plt\n",
        "import seaborn as sns"
      ]
    },
    {
      "cell_type": "code",
      "source": [
        "#import data\n",
        "import pandas as pd\n",
        "\n",
        "var_list = ['prochoic' , 'partyid', 'year', 'age', 'income', 'polviews', 'relig', 'region', 'abany', 'prolife', 'sex']\n",
        "\n",
        "output_file = 'gss_data_url.csv'\n",
        "modes = ['w', 'a']\n",
        "phase = 0\n",
        "\n",
        "for k in range(37):\n",
        "    url = 'https://github.com/DS3001/gss_zip/raw/main/gss_' + str(1 + k) + '.csv'\n",
        "    print(url)\n",
        "    df = pd.read_csv(url, low_memory=False)\n",
        "\n",
        "    if phase == 0:\n",
        "\n",
        "        df[var_list].to_csv(output_file, mode=modes[phase], header=True, index=False)\n",
        "    else:\n",
        "\n",
        "        df[var_list].to_csv(output_file, mode=modes[phase], header=False, index=False)\n",
        "\n",
        "    phase = 1\n",
        "    k += 1\n"
      ],
      "metadata": {
        "colab": {
          "base_uri": "https://localhost:8080/"
        },
        "id": "CUpg1gURnl3U",
        "outputId": "3e62fe4f-b8ed-4e10-86f7-fbe0f5a3165c"
      },
      "execution_count": 13,
      "outputs": [
        {
          "output_type": "stream",
          "name": "stdout",
          "text": [
            "https://github.com/DS3001/gss_zip/raw/main/gss_1.csv\n",
            "https://github.com/DS3001/gss_zip/raw/main/gss_2.csv\n",
            "https://github.com/DS3001/gss_zip/raw/main/gss_3.csv\n",
            "https://github.com/DS3001/gss_zip/raw/main/gss_4.csv\n",
            "https://github.com/DS3001/gss_zip/raw/main/gss_5.csv\n",
            "https://github.com/DS3001/gss_zip/raw/main/gss_6.csv\n",
            "https://github.com/DS3001/gss_zip/raw/main/gss_7.csv\n",
            "https://github.com/DS3001/gss_zip/raw/main/gss_8.csv\n",
            "https://github.com/DS3001/gss_zip/raw/main/gss_9.csv\n",
            "https://github.com/DS3001/gss_zip/raw/main/gss_10.csv\n",
            "https://github.com/DS3001/gss_zip/raw/main/gss_11.csv\n",
            "https://github.com/DS3001/gss_zip/raw/main/gss_12.csv\n",
            "https://github.com/DS3001/gss_zip/raw/main/gss_13.csv\n",
            "https://github.com/DS3001/gss_zip/raw/main/gss_14.csv\n",
            "https://github.com/DS3001/gss_zip/raw/main/gss_15.csv\n",
            "https://github.com/DS3001/gss_zip/raw/main/gss_16.csv\n",
            "https://github.com/DS3001/gss_zip/raw/main/gss_17.csv\n",
            "https://github.com/DS3001/gss_zip/raw/main/gss_18.csv\n",
            "https://github.com/DS3001/gss_zip/raw/main/gss_19.csv\n",
            "https://github.com/DS3001/gss_zip/raw/main/gss_20.csv\n",
            "https://github.com/DS3001/gss_zip/raw/main/gss_21.csv\n",
            "https://github.com/DS3001/gss_zip/raw/main/gss_22.csv\n",
            "https://github.com/DS3001/gss_zip/raw/main/gss_23.csv\n",
            "https://github.com/DS3001/gss_zip/raw/main/gss_24.csv\n",
            "https://github.com/DS3001/gss_zip/raw/main/gss_25.csv\n",
            "https://github.com/DS3001/gss_zip/raw/main/gss_26.csv\n",
            "https://github.com/DS3001/gss_zip/raw/main/gss_27.csv\n",
            "https://github.com/DS3001/gss_zip/raw/main/gss_28.csv\n",
            "https://github.com/DS3001/gss_zip/raw/main/gss_29.csv\n",
            "https://github.com/DS3001/gss_zip/raw/main/gss_30.csv\n",
            "https://github.com/DS3001/gss_zip/raw/main/gss_31.csv\n",
            "https://github.com/DS3001/gss_zip/raw/main/gss_32.csv\n",
            "https://github.com/DS3001/gss_zip/raw/main/gss_33.csv\n",
            "https://github.com/DS3001/gss_zip/raw/main/gss_34.csv\n",
            "https://github.com/DS3001/gss_zip/raw/main/gss_35.csv\n",
            "https://github.com/DS3001/gss_zip/raw/main/gss_36.csv\n",
            "https://github.com/DS3001/gss_zip/raw/main/gss_37.csv\n"
          ]
        }
      ]
    },
    {
      "cell_type": "code",
      "execution_count": 14,
      "metadata": {
        "colab": {
          "base_uri": "https://localhost:8080/"
        },
        "id": "Bo4FCSj8iZBR",
        "outputId": "60a79568-fc5f-45e2-836c-495d7d508468"
      },
      "outputs": [
        {
          "output_type": "stream",
          "name": "stdout",
          "text": [
            "Variable Types:\n",
            "prochoic    float64\n",
            "partyid      object\n",
            "year          int64\n",
            "age         float64\n",
            "income       object\n",
            "polviews     object\n",
            "relig       float64\n",
            "region       object\n",
            "abany        object\n",
            "prolife     float64\n",
            "sex          object\n",
            "dtype: object\n",
            "\n",
            "Unique Response Codes:\n",
            "prochoic: [nan]\n",
            "partyid: ['independent (neither, no response)' 'not very strong democrat'\n",
            " 'independent, close to republican' 'not very strong republican'\n",
            " 'strong republican' 'independent, close to democrat' 'strong democrat'\n",
            " 'other party' nan]\n",
            "year: [2022]\n",
            "age: [nan 73. 54. 51. 32. 56. 42. 31. 24. 33. 43. 58. 50. 18. 52. 38. 65. 71.\n",
            " 34. 81. 47. 26. 49. 75. 84. 35. 76. 67. 60. 79. 57. 40. 89. 36. 39. 64.\n",
            " 45. 28. 46. 63. 69. 74. 44. 48. 23. 59. 61. 70. 66. 37. 62. 25. 22. 87.\n",
            " 55. 30. 29. 77. 19. 27. 68. 72. 53. 41. 21. 85. 20. 78. 80. 86.]\n",
            "income: [nan '$20,000 to $24,999' '$10,000 to $14,999' '$25,000 or more'\n",
            " 'under $1,000' '$15,000 to $19,999' '$8,000 to $9,999' '$7,000 to $7,999'\n",
            " '$1,000 to $2,999' '$4,000 to $4,999' '$3,000 to $3,999'\n",
            " '$6,000 to $6,999']\n",
            "polviews: ['liberal' 'moderate, middle of the road' 'slightly conservative'\n",
            " 'conservative' 'slightly liberal' 'extremely conservative' nan\n",
            " 'extremely liberal']\n",
            "relig: [nan]\n",
            "region: ['pacific' 'mountain' 'west south central' 'west north central'\n",
            " 'east north central' 'south atlantic' 'east south atlantic' 'new england']\n",
            "abany: ['yes' nan 'no']\n",
            "prolife: [nan]\n",
            "sex: ['male' 'female']\n"
          ]
        }
      ],
      "source": [
        "\n",
        "variables = ['prochoic', 'partyid', 'year', 'age', 'income', 'polviews', 'relig', 'region', 'abany', 'prolife', 'sex']\n",
        "\n",
        "# Print variable types\n",
        "print(\"Variable Types:\")\n",
        "print(df[variables].dtypes)\n",
        "\n",
        "# Analyzing unique response codes for each variable\n",
        "print(\"\\nUnique Response Codes:\")\n",
        "for var in variables:\n",
        "    unique_values = df[var].unique()\n",
        "    print(f\"{var}: {unique_values}\")\n"
      ]
    }
  ],
  "metadata": {
    "colab": {
      "provenance": [],
      "authorship_tag": "ABX9TyMewqyugSY0PJhdwYzZGX0n",
      "include_colab_link": true
    },
    "kernelspec": {
      "display_name": "Python 3",
      "name": "python3"
    },
    "language_info": {
      "name": "python"
    }
  },
  "nbformat": 4,
  "nbformat_minor": 0
}