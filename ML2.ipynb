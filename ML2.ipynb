{
  "cells": [
    {
      "cell_type": "markdown",
      "metadata": {
        "id": "view-in-github",
        "colab_type": "text"
      },
      "source": [
        "<a href=\"https://colab.research.google.com/github/rtan01/Group1Project1/blob/main/ML2.ipynb\" target=\"_parent\"><img src=\"https://colab.research.google.com/assets/colab-badge.svg\" alt=\"Open In Colab\"/></a>"
      ]
    },
    {
      "cell_type": "code",
      "execution_count": 8,
      "metadata": {
        "id": "WdIIS2kiiPlk"
      },
      "outputs": [],
      "source": [
        "#Libraries\n",
        "import pandas as pd\n",
        "import numpy as np\n",
        "import matplotlib.pyplot as plt\n",
        "import seaborn as sns"
      ]
    },
    {
      "cell_type": "code",
      "source": [
        "#import data\n",
        "import pandas as pd\n",
        "\n",
        "var_list = ['prochoic' , 'partyid', 'year', 'age', 'income', 'polviews', 'relig', 'region', 'abany', 'prolife', 'sex']\n",
        "\n",
        "output_file = 'gss_data_url.csv'\n",
        "modes = ['w', 'a']\n",
        "phase = 0\n",
        "\n",
        "for k in range(37):\n",
        "    url = 'https://github.com/DS3001/gss_zip/raw/main/gss_' + str(1 + k) + '.csv'\n",
        "    print(url)\n",
        "    df = pd.read_csv(url, low_memory=False)\n",
        "\n",
        "    if phase == 0:\n",
        "\n",
        "        df[var_list].to_csv(output_file, mode=modes[phase], header=True, index=False)\n",
        "    else:\n",
        "\n",
        "        df[var_list].to_csv(output_file, mode=modes[phase], header=False, index=False)\n",
        "\n",
        "    phase = 1\n",
        "    k += 1\n"
      ],
      "metadata": {
        "colab": {
          "base_uri": "https://localhost:8080/"
        },
        "id": "CUpg1gURnl3U",
        "outputId": "3e62fe4f-b8ed-4e10-86f7-fbe0f5a3165c"
      },
      "execution_count": 13,
      "outputs": [
        {
          "output_type": "stream",
          "name": "stdout",
          "text": [
            "https://github.com/DS3001/gss_zip/raw/main/gss_1.csv\n",
            "https://github.com/DS3001/gss_zip/raw/main/gss_2.csv\n",
            "https://github.com/DS3001/gss_zip/raw/main/gss_3.csv\n",
            "https://github.com/DS3001/gss_zip/raw/main/gss_4.csv\n",
            "https://github.com/DS3001/gss_zip/raw/main/gss_5.csv\n",
            "https://github.com/DS3001/gss_zip/raw/main/gss_6.csv\n",
            "https://github.com/DS3001/gss_zip/raw/main/gss_7.csv\n",
            "https://github.com/DS3001/gss_zip/raw/main/gss_8.csv\n",
            "https://github.com/DS3001/gss_zip/raw/main/gss_9.csv\n",
            "https://github.com/DS3001/gss_zip/raw/main/gss_10.csv\n",
            "https://github.com/DS3001/gss_zip/raw/main/gss_11.csv\n",
            "https://github.com/DS3001/gss_zip/raw/main/gss_12.csv\n",
            "https://github.com/DS3001/gss_zip/raw/main/gss_13.csv\n",
            "https://github.com/DS3001/gss_zip/raw/main/gss_14.csv\n",
            "https://github.com/DS3001/gss_zip/raw/main/gss_15.csv\n",
            "https://github.com/DS3001/gss_zip/raw/main/gss_16.csv\n",
            "https://github.com/DS3001/gss_zip/raw/main/gss_17.csv\n",
            "https://github.com/DS3001/gss_zip/raw/main/gss_18.csv\n",
            "https://github.com/DS3001/gss_zip/raw/main/gss_19.csv\n",
            "https://github.com/DS3001/gss_zip/raw/main/gss_20.csv\n",
            "https://github.com/DS3001/gss_zip/raw/main/gss_21.csv\n",
            "https://github.com/DS3001/gss_zip/raw/main/gss_22.csv\n",
            "https://github.com/DS3001/gss_zip/raw/main/gss_23.csv\n",
            "https://github.com/DS3001/gss_zip/raw/main/gss_24.csv\n",
            "https://github.com/DS3001/gss_zip/raw/main/gss_25.csv\n",
            "https://github.com/DS3001/gss_zip/raw/main/gss_26.csv\n",
            "https://github.com/DS3001/gss_zip/raw/main/gss_27.csv\n",
            "https://github.com/DS3001/gss_zip/raw/main/gss_28.csv\n",
            "https://github.com/DS3001/gss_zip/raw/main/gss_29.csv\n",
            "https://github.com/DS3001/gss_zip/raw/main/gss_30.csv\n",
            "https://github.com/DS3001/gss_zip/raw/main/gss_31.csv\n",
            "https://github.com/DS3001/gss_zip/raw/main/gss_32.csv\n",
            "https://github.com/DS3001/gss_zip/raw/main/gss_33.csv\n",
            "https://github.com/DS3001/gss_zip/raw/main/gss_34.csv\n",
            "https://github.com/DS3001/gss_zip/raw/main/gss_35.csv\n",
            "https://github.com/DS3001/gss_zip/raw/main/gss_36.csv\n",
            "https://github.com/DS3001/gss_zip/raw/main/gss_37.csv\n"
          ]
        }
      ]
    },
    {
      "cell_type": "code",
      "source": [
        "df = pd.read_csv(output_file)\n",
        "df.shape[0]"
      ],
      "metadata": {
        "id": "vkBJuKp8pkst",
        "outputId": "efd4e4d1-8dfe-4043-c90b-0032a4183443",
        "colab": {
          "base_uri": "https://localhost:8080/"
        }
      },
      "execution_count": 16,
      "outputs": [
        {
          "output_type": "execute_result",
          "data": {
            "text/plain": [
              "72390"
            ]
          },
          "metadata": {},
          "execution_count": 16
        }
      ]
    },
    {
      "cell_type": "code",
      "execution_count": 17,
      "metadata": {
        "colab": {
          "base_uri": "https://localhost:8080/"
        },
        "id": "Bo4FCSj8iZBR",
        "outputId": "c78a4612-a30b-498d-ef25-1f67d9db07aa"
      },
      "outputs": [
        {
          "output_type": "stream",
          "name": "stdout",
          "text": [
            "Variable Types:\n",
            "prochoic     object\n",
            "partyid      object\n",
            "year          int64\n",
            "age         float64\n",
            "income       object\n",
            "polviews     object\n",
            "relig        object\n",
            "region       object\n",
            "abany        object\n",
            "prolife      object\n",
            "sex          object\n",
            "dtype: object\n",
            "\n",
            "Unique Response Codes:\n",
            "prochoic: [nan 'strongly agree' 'agree' 'disagree' 'neither agree nor disagree'\n",
            " 'strongly disagree']\n",
            "partyid: ['independent, close to democrat' 'not very strong democrat'\n",
            " 'independent (neither, no response)' 'strong democrat'\n",
            " 'not very strong republican' 'independent, close to republican'\n",
            " 'strong republican' 'other party' nan]\n",
            "year: [1972 1973 1974 1975 1976 1977 1978 1980 1982 1983 1984 1985 1986 1987\n",
            " 1988 1989 1990 1991 1993 1994 1996 1998 2000 2002 2004 2006 2008 2010\n",
            " 2012 2014 2016 2018 2021 2022]\n",
            "age: [23. 70. 48. 27. 61. 26. 28. 21. 30. 56. 54. 49. 41. 24. 62. 46. 57. 58.\n",
            " 71. 53. 42. 20. 25. 78. 35. 51. 76. 39. 64. 50. 40. 43. 37. 22. 31. 52.\n",
            " 47. 45. 68. 63. 19. 55. 44. 34. 36. 74. 69. 29. 67. 75. 38. 73. 84. 82.\n",
            " 72. 59. 33. 81. 65. 32. nan 60. 80. 66. 77. 18. 79. 83. 85. 88. 87. 89.\n",
            " 86.]\n",
            "income: [nan '$10,000 to $14,999' '$7,000 to $7,999' '$4,000 to $4,999'\n",
            " '$1,000 to $2,999' '$15,000 to $19,999' '$5,000 to $5,999'\n",
            " '$20,000 to $24,999' '$3,000 to $3,999' 'under $1,000' '$8,000 to $9,999'\n",
            " '$25,000 or more' '$6,000 to $6,999']\n",
            "polviews: [nan 'moderate, middle of the road' 'slightly conservative' 'conservative'\n",
            " 'liberal' 'extremely conservative' 'slightly liberal' 'extremely liberal']\n",
            "relig: ['jewish' 'catholic' 'protestant' 'other' 'none' nan\n",
            " 'inter-nondenominational' 'christian' 'muslim/islam' 'buddhism'\n",
            " 'orthodox-christian' 'native american' 'hinduism'\n",
            " 'other eastern religions']\n",
            "region: ['east north central' 'west south central' 'east south atlantic'\n",
            " 'west north central' 'new england' 'pacific' 'south atlantic'\n",
            " 'middle atlantic' 'mountain']\n",
            "abany: [nan 'yes' 'no']\n",
            "prolife: [nan 'disagree' 'neither agree nor disagree' 'agree' 'strongly disagree'\n",
            " 'strongly agree']\n",
            "sex: ['female' 'male' nan]\n"
          ]
        }
      ],
      "source": [
        "\n",
        "variables = ['prochoic', 'partyid', 'year', 'age', 'income', 'polviews', 'relig', 'region', 'abany', 'prolife', 'sex']\n",
        "\n",
        "# Print variable types\n",
        "print(\"Variable Types:\")\n",
        "print(df[variables].dtypes)\n",
        "\n",
        "# Analyzing unique response codes for each variable\n",
        "print(\"\\nUnique Response Codes:\")\n",
        "for var in variables:\n",
        "    unique_values = df[var].unique()\n",
        "    print(f\"{var}: {unique_values}\")\n"
      ]
    }
  ],
  "metadata": {
    "colab": {
      "provenance": [],
      "authorship_tag": "ABX9TyNNn28t83EDNC7cKWxC94Ye",
      "include_colab_link": true
    },
    "kernelspec": {
      "display_name": "Python 3",
      "name": "python3"
    },
    "language_info": {
      "name": "python"
    }
  },
  "nbformat": 4,
  "nbformat_minor": 0
}